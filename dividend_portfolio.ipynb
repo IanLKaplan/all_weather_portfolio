{
 "cells": [
  {
   "cell_type": "markdown",
   "metadata": {
    "collapsed": true,
    "pycharm": {
     "name": "#%% md\n"
    }
   },
   "source": [
    "<h2>\n",
    "<center>\n",
    "Dividend Portfolios<br/>\n",
    "by<br/>\n",
    "Ian Kaplan<br/>\n",
    "December 2021\n",
    "</center>\n",
    "</h2>\n",
    "<h3>\n",
    "Introduction\n",
    "</h3>\n",
    "<p>\n",
    "This notebook discusses investment portfolios composed of dividend yielding assets. This notebook\n",
    "was written after the All Weather Portfolio notebook.\n",
    "</p>\n",
    "<p>\n",
    "To reduce risk investment portfolios often allocate a significant portion (50-60 percent) of the\n",
    "portfolio to bonds or bond funds. Although these portfolios are viewed as low risk portfolios,\n",
    "they can have significant interest rate risk where the is a potential a risk in\n",
    "interest rates.\n",
    "</p>\n",
    "<p>\n",
    "The portfolios investigated in the All Weather Portfolio notebook return, on average,\n",
    "about eight percent. These returns are highly volatile from year to year however.\n",
    "</p>\n",
    "<p>\n",
    "An alternative to the classic 40/60 market/bond portfolio is a portfolio of dividend assets.\n",
    "A diversified portfolio that returns approximately 8% from dividends will have low volatility.\n",
    "</p>\n",
    "<p>\n",
    "One way to look at portfolio return is via \"adjusted close price\".  The adjusted\n",
    "close price is the market price for the asset adjusted for dividend distributions.  In this\n",
    "view, a dividend yielding asset that goes down in market price would not be desirable.\n",
    "</p>\n",
    "<p>\n",
    "Another way to look at a dividend portfolio is only through dividend yield.\n",
    "</p>\n",
    "<p>\n",
    "Consider the case where there is an asset, stock X, that sells for 100 dollars a\n",
    "share with a yearly dividend yield of 10 dollars.  In this example, we will assume that\n",
    "the dividend is very reliable and has never been missed (in \"real life\" dividends can\n",
    "be missed or reduced).  If the market price of X goes down to 50 dollars, we don't care\n",
    "because we are still receiving the 10 dollar yearly dividend and we are not planning\n",
    "on setting X.\n",
    "</p>\n",
    "\n",
    "<p>\n",
    "Australian stock quotes: https://www2.asx.com.au/markets/\n",
    "</p>"
   ]
  },
  {
   "cell_type": "code",
   "execution_count": null,
   "outputs": [],
   "source": [],
   "metadata": {
    "collapsed": false,
    "pycharm": {
     "name": "#%%\n"
    }
   }
  },
  {
   "cell_type": "markdown",
   "source": [
    "<h4>\n",
    "Disclaimer\n",
    "</h4>\n",
    "<p>\n",
    "This notebook is not financial advice, investing advice, or tax advice.\n",
    "The information in this notebook is for informational and recreational purposes only.\n",
    "Investment products discussed (ETFs, mutual funds, etc.) are for illustrative purposes\n",
    "only. This is not a recommendation to buy, sell, or otherwise transact in any of the\n",
    "products mentioned. Do your own due diligence. Past performance does not guarantee\n",
    "future returns.\n",
    "</p>"
   ],
   "metadata": {
    "collapsed": false,
    "pycharm": {
     "name": "#%% md\n"
    }
   }
  },
  {
   "cell_type": "code",
   "execution_count": null,
   "outputs": [],
   "source": [],
   "metadata": {
    "collapsed": false,
    "pycharm": {
     "name": "#%%\n"
    }
   }
  }
 ],
 "metadata": {
  "kernelspec": {
   "display_name": "Python 3",
   "language": "python",
   "name": "python3"
  },
  "language_info": {
   "codemirror_mode": {
    "name": "ipython",
    "version": 2
   },
   "file_extension": ".py",
   "mimetype": "text/x-python",
   "name": "python",
   "nbconvert_exporter": "python",
   "pygments_lexer": "ipython2",
   "version": "2.7.6"
  }
 },
 "nbformat": 4,
 "nbformat_minor": 0
}