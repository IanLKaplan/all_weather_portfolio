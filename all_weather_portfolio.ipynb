{
 "cells": [
  {
   "cell_type": "markdown",
   "metadata": {
    "collapsed": true,
    "pycharm": {
     "name": "#%% md\n"
    }
   },
   "source": [
    "<h2>\n",
    "<center>\n",
    "\"All Weather\" Portfolios<br/>\n",
    "by<br/>\n",
    "Ian Kaplan\n",
    "</center>\n",
    "</h2>\n",
    "\n",
    "<h3>\n",
    "Abstract\n",
    "</h3>\n",
    "<p>\n",
    "This notebook explores investment portfolios that have decent return and lower\n",
    "risk than the overall stock market.\n",
    "</p>\n",
    "<h3>\n",
    "Introduction\n",
    "</h3>\n",
    "<p>\n",
    "If you are fortunate to have some cash available for investment you have to decide\n",
    "how you should invest this cash (I'll note that not making an explicit investment\n",
    "decision is a decision).\n",
    "</p>\n",
    "<p>\n",
    "The US stock market, over the long term, has yielded good returns. Unfortunately it is an\n",
    "inescapable fact that risk and return are related.  The returns provided by the stock\n",
    "market come with the risk of significant drawdowns (losses in your investment portfolio).\n",
    "</p>\n",
    "<p>\n",
    "As any good financial adviser will tell you, how you invest depends on your stage in life.\n",
    "Is retirment decades away, close or are you retired.\n",
    "</p>\n",
    "<p>\n",
    "One of the simplest ways to achieve good investment returns over the long term is\n",
    "\"dollar cost averaging\" where you invest a certain amount every month in a market\n",
    "index fund. When there is a market\n",
    "downturn your cost will be lower resulting in gains when the market rises.\n",
    "</p>\n",
    "<p>\n",
    "Dollar cost averaging is only a successful approach if your investment horizon is in\n",
    "decades and you are building your retirement fund. This investment horizon will allow\n",
    "you to weather and profit from market drawdowns.\n",
    "</p>\n",
    "<p>\n",
    "If you are at or near retirement age then the inevitable market downturns are much\n",
    "less acceptable since you will not be able to take advantage of market cycles\n",
    "that could be in decades.\n",
    "</p>\n",
    "<p>\n",
    "This notebook explores \"all weather\" portfolios that have lower risk and relatively low\n",
    "correlation with the stock market. This portfolio is designed for someone who wants\n",
    "decent returns with less market risk.\n",
    "</p>\n",
    "\n",
    "https://www.optimizedportfolio.com/all-weather-portfolio/"
   ]
  },
  {
   "cell_type": "markdown",
   "source": [
    "<h4>\n",
    "Disclaimer\n",
    "</h4>\n",
    "<p>\n",
    "This is not financial advice, investing advice, or tax advice.\n",
    "The information on this website is for informational and recreational purposes only.\n",
    "Investment products discussed (ETFs, mutual funds, etc.) are for illustrative purposes\n",
    "only. This is not a recommendation to buy, sell, or otherwise transact in any of the\n",
    "products mentioned. Do your own due diligence. Past performance does not guarantee\n",
    "future returns.\n",
    "</p>\n",
    "\n"
   ],
   "metadata": {
    "collapsed": false,
    "pycharm": {
     "name": "#%% md\n"
    }
   }
  },
  {
   "cell_type": "code",
   "execution_count": null,
   "outputs": [],
   "source": [
    "\n"
   ],
   "metadata": {
    "collapsed": false,
    "pycharm": {
     "name": "#%%\n"
    }
   }
  }
 ],
 "metadata": {
  "kernelspec": {
   "display_name": "Python 3",
   "language": "python",
   "name": "python3"
  },
  "language_info": {
   "codemirror_mode": {
    "name": "ipython",
    "version": 2
   },
   "file_extension": ".py",
   "mimetype": "text/x-python",
   "name": "python",
   "nbconvert_exporter": "python",
   "pygments_lexer": "ipython2",
   "version": "2.7.6"
  }
 },
 "nbformat": 4,
 "nbformat_minor": 0
}