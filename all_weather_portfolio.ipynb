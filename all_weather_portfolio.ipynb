{
 "cells": [
  {
   "cell_type": "markdown",
   "metadata": {
    "collapsed": true,
    "pycharm": {
     "name": "#%% md\n"
    }
   },
   "source": [
    "\n",
    "\n",
    "<h2>\n",
    "<center>\n",
    "\"All Weather\" Portfolios<br/>\n",
    "by<br/>\n",
    "Ian Kaplan\n",
    "</center>\n",
    "</h2>\n",
    "\n",
    "<h3>\n",
    "Abstract\n",
    "</h3>\n",
    "<p>\n",
    "This notebook explores investment portfolios that have decent return (4 to 8 percent) and lower\n",
    "risk than the overall stock market.\n",
    "</p>\n",
    "<h3>\n",
    "Introduction\n",
    "</h3>\n",
    "<p>\n",
    "If you are fortunate to have some cash available for investment you have to decide\n",
    "how you should invest this cash (I'll note that not making an explicit investment\n",
    "decision is a decision).\n",
    "</p>\n",
    "<p>\n",
    "The US stock market, over the long term, has yielded good returns. Unfortunately it is an\n",
    "inescapable fact that risk and return are related.  The returns provided by the stock\n",
    "market come with the risk of losses in your investment portfolio, at least in the short to\n",
    "medium term.\n",
    "</p>\n",
    "<p>\n",
    "As any good financial adviser will tell you, how you invest depends on your stage in life.\n",
    "Is retirment decades away, close or are you retired?\n",
    "</p>\n",
    "<p>\n",
    "If your retirment is decades away, one of the simplest ways to achieve good investment\n",
    "returns is \"dollar cost averaging\" where you invest a certain amount every month\n",
    "in one or more low fee market index funds. When there is a market\n",
    "downturn your share purchase cost will be lower resulting in gains when the market rises.\n",
    "Many people take advantage of dollar cost averaging by allocating a fraction of their\n",
    "salary in their company's 401K retirment plan.\n",
    "</p>\n",
    "<p>\n",
    "If you are at or near retirement age then the inevitable market downturns are much\n",
    "less acceptable since you will not be able to take advantage of market cycles\n",
    "that could last five years or more.\n",
    "</p>\n",
    "<p>\n",
    "This notebook explores \"all weather\" portfolios that have lower risk and lower\n",
    "correlation with the stock market (a.k.a., lower market beta). These portfolios are designed\n",
    "for someone who wants decent returns with less market risk.  The alternatives discussed below\n",
    "suggest that a return of around 7% with low market risk can be difficult to achive.\n",
    "</p>\n",
    "<p>\n",
    "One of the portfolios explored in this notebook is based on\n",
    "the Bridgewater Associates All Weather portfolio proposed by Bridgewater founder Ray Dalio.\n",
    "The ideas behind this portfolio are discussed in a Bridgewater white paper\n",
    "<a href=\"https://www.bridgewater.com/research-and-insights/the-all-weather-story\">The All Weather Story</a>\n",
    "</p>\n",
    "<p>\n",
    "Ray Dalio's All Weather Portfolio consists of the following assets:\n",
    "</p>\n",
    "<ul>\n",
    "<li>30% US stocks</li>\n",
    "<li>40% long-term treasuries</li>\n",
    "<li>15% intermediate-term treasuries</li>\n",
    "<li>7.5% commodities, diversified</li>\n",
    "<li>7.5% gold</li>\n",
    "</ul>\n",
    "<p>\n",
    "An excellent analysis and practical examples of the All Weather Portfolio is published on the\n",
    "<a href=\"https://www.optimizedportfolio.com/all-weather-portfolio/\">Optimized Portfolio web site</a>\n",
    "An attractive portfolio proposed on the <i>Optimized Portfolio</i> web site replaces\n",
    "commodities with utilities.\n",
    "</p>\n",
    "<p>\n",
    "The article\n",
    "<a href=\"https://www.marketwatch.com/story/how-did-these-all-weather-portfolios-weather-2020-11608572216\">How did these ‘All-Weather’ portfolios weather 2020?</a> discusses the\n",
    "performance of the Bridgewater \"All Weather\" portfolio during the period with the\n",
    "COVID-19 market crash.\n",
    "</p>\n",
    "<h3>\n",
    "A Portfolio of ETFs\n",
    "</h3>\n",
    "<p>\n",
    "The Optimized Portfolio article on Dalio's All Weather portfolio lists a set of ETFs\n",
    "that replicate Dalio's portfolio recommendation.\n",
    "</p>\n",
    "<p>\n",
    "Exchange Traded Funds (ETF) can consist of a variety of assets. The most common assets are collections\n",
    "of stocks, generally drawn from a particular area (e.g., technology stocks, bio-medical stocks,\n",
    "etc...)  ETFs provide an easy way to get \"sector exposure\" without having to build up a set\n",
    "of individual stocks.\n",
    "</p>\n",
    "<p>\n",
    "From <a href=\"https://etfdb.com/\">etfdb.com</a> and <a href=\"etf.com\">etf.com</a>:\n",
    "</p>\n",
    "<ul>\n",
    "<li>\n",
    "<p>\n",
    "VTI: Vanguard Total Stock Market\n",
    "</p>\n",
    "<p>\n",
    "This ETF offers broad exposure to the U.S. equity market, investing in\n",
    "thousands of different securities across all sectors.\n",
    "</p>\n",
    "<p>\n",
    "Expense ratio: 0.03%\n",
    "</p>\n",
    "<p>\n",
    "Inception date: May 24, 2001\n",
    "</p>\n",
    "<p>\n",
    "MSCI rating: BBB\n",
    "</p>\n",
    "</li>\n",
    "<li>\n",
    "<p>\n",
    "VGLT: Vanguard Long-Term Treasury\n",
    "</p>\n",
    "<p>\n",
    "This ETF offers exposure to long term government bonds,\n",
    "focusing on Treasuries that mature in ten years or more.\n",
    "</p>\n",
    "<p>\n",
    "Expense ratio: 0.05%\n",
    "</p>\n",
    "<p>\n",
    "Inception date: Nov 19, 2009\n",
    "</p>\n",
    "<p>\n",
    "MSCI rating: A\n",
    "</p>\n",
    "</li>\n",
    "<li>\n",
    "<p>\n",
    "VGIT: Vanguard Intermediate-Term Treasury\n",
    "</p>\n",
    "<p>\n",
    "This ETF offers exposure to intermediate term government bonds,\n",
    "focusing on Treasuries that mature in three to ten years.\n",
    "</p>\n",
    "<p>\n",
    "Expense ratio: 0.05%\n",
    "</p>\n",
    "<p>\n",
    "Inception date: Nov 19, 2009\n",
    "</p>\n",
    "MSCI rating: A\n",
    "</li>\n",
    "<li>\n",
    "<p>\n",
    "VPU: Vanguard Utilities\n",
    "</p>\n",
    "<p>\n",
    "This Vanguard ETF offers exposure to the domestic utilities sector, a corner of the U.S. market that has historically\n",
    "exhibited low volatility and often features an attractive distribution yield.\n",
    "</p>\n",
    "<p>\n",
    "Expense ratio: 0.10%\n",
    "</p>\n",
    "<p>\n",
    "Inception date: Jan 26, 2004\n",
    "</p>\n",
    "<p>\n",
    "MSCI rating: AA\n",
    "</p>\n",
    "</li>\n",
    "<li>\n",
    "<p>\n",
    "IAU: iShares Gold Trust\n",
    "</p>\n",
    "<p>\n",
    "This fund offers exposure to one of the world’s most famous metals, gold.\n",
    "IAU is designed to track the spot price of gold bullion by holding gold\n",
    "bars in a secure vault, allowing investors to free themselves from finding\n",
    "a place to store the metal.\n",
    "</p>\n",
    "<p>\n",
    "Expense ratio: 0.25%\n",
    "</p>\n",
    "<p>\n",
    "Inception date: Jan 21, 2005\n",
    "</p>\n",
    "<p>\n",
    "MSCI rating: none provided, but rated B on etf.com\n",
    "</p>\n",
    "</li>\n",
    "</ul>\n",
    "<p>\n",
    "For this set of ETFs, earliest common start date is November 19, 2009\n",
    "</p>\n",
    "\n",
    "<h4>\n",
    "All Weather Portfolio Weights\n",
    "</h4>\n",
    "\n",
    "<ul>\n",
    "<li>30% VTI</li>\n",
    "<li>40% VGLT</li>\n",
    "<li>15% VGIT</li>\n",
    "<li>8% VPU</li>\n",
    "<li>7% IAU</li>\n",
    "</ul>\n",
    "\n",
    "\n",
    "<h3>\n",
    "2X Leveraged ETFs\n",
    "</h3>\n",
    "<p>\n",
    "For a low risk, relatively market neutral portfolio, one way to boost return (and risk) is\n",
    "to use leverage.  A set of ETFs that mirror the All Weather Portfolio and include leveraged\n",
    "assets is listed below (the ETF selection is from\n",
    "<a href=\"https://www.optimizedportfolio.com/\"><i>Optimized Portfolio</i></a>).  Due to the\n",
    "cost of leverage (e.g., borrowed money) the expense ratios for these ETFs is higher\n",
    "(expense ratios of 0.91 to 0.95 percent).\n",
    "</p>\n",
    "<ul>\n",
    "<li>\n",
    "<p>\n",
    "SSO: ProShares Ultra S&P 500\n",
    "</p>\n",
    "<p>\n",
    "This ETF offers 2x daily long leverage to the S&P 500 Index, making it a powerful tool\n",
    "for investors with a bullish short-term outlook for large cap equities.\n",
    "</p>\n",
    "<p>\n",
    "Expense ratio: 0.91%\n",
    "</p>\n",
    "<p>\n",
    "Inception date: Jun 19, 2006\n",
    "</p>\n",
    "<p>\n",
    "MSCI rating: A\n",
    "</p>\n",
    "</li>\n",
    "<li>\n",
    "<p>\n",
    "UBT: ProShares Ultra 20+ Year Treasury\n",
    "</p>\n",
    "<p>\n",
    "This ETF offers 2x long leveraged exposure to the broad-based Barclays Capital U.S.\n",
    "20+ Year Treasury Index, making it a powerful tool for investors with a bullish\n",
    "short-term outlook for U.S. long-term treasuries.\n",
    "</p>\n",
    "<p>\n",
    "Expense ratio: 0.95%\n",
    "</p>\n",
    "<p>\n",
    "Inception date: Jan 19, 2010\n",
    "</p>\n",
    "<p>\n",
    "MSCI rating: A\n",
    "</p>\n",
    "</li>\n",
    "<li>\n",
    "<p>\n",
    "UST: ProShares Ultra 7-10 Year Treasury\n",
    "</p>\n",
    "<p>\n",
    "This ETF offers 2x long leveraged exposure to the broad-based Barclays\n",
    "Capital U.S. 7-10 Year Treasury Index, making it a powerful tool for investors\n",
    "with a bullish short-term outlook for U.S. long-term treasuries.\n",
    "</p>\n",
    "<p>\n",
    "Expense ratio: 0.95%\n",
    "</p>\n",
    "<p>\n",
    "Inception date: Jan 19, 2010\n",
    "</p>\n",
    "<p>\n",
    "MSCI rating: A\n",
    "</p>\n",
    "</li>\n",
    "<li>\n",
    "<p>\n",
    "UPW: ProShares Ultra Utilities\n",
    "</p>\n",
    "<p>\n",
    "This ETF offers 2x daily long leverage to the Dow Jones U.S. Utilities Index, making it a powerful tool for\n",
    "investors with a bullish short-term outlook for utilities equities.\n",
    "</p>\n",
    "<p>\n",
    "Expense ratio: 0.95%\n",
    "</p>\n",
    "<p>\n",
    "Inception date: Jan 30, 2007\n",
    "</p>\n",
    "<p>\n",
    "MSCI rating: A\n",
    "</p>\n",
    "</li>\n",
    "<li>\n",
    "<p>\n",
    "UGL: ProShares Ultra Gold\n",
    "</p>\n",
    "<p>\n",
    "This ETF offers 2x daily leverage to gold prices, making UGL a powerful tool for\n",
    "expressing a bullish outlook on precious metals.\n",
    "</p>\n",
    "<p>\n",
    "Expense ratio: 0.95%\n",
    "</p>\n",
    "<p>\n",
    "Inception date: Dec 01, 2008\n",
    "</p>\n",
    "<p>\n",
    "MSCI rating: none provided. Could not retrieve the etf.com rating\n",
    "</p>\n",
    "</li>\n",
    "</ul>\n",
    "<p>\n",
    "Earliest common date for the leveraged ETFs: January 19, 2010\n",
    "</p>\n",
    "\n",
    "<h4>\n",
    "All Weather Portfolio Weights (2x leveraged ETFs)\n",
    "</h4>\n",
    "\n",
    "<ul>\n",
    "<li>SSO – 30%</li>\n",
    "<li>UBT – 40%</li>\n",
    "<li>UST – 15%</li>\n",
    "<li>UPW – 8%</li>\n",
    "<li>UGL – 7%</li>\n",
    "</ul>\n",
    "\n",
    "\n",
    "<h3>\n",
    "Some observations on the All Weather Portfolio\n",
    "</h3>\n",
    "\n",
    "<h4>\n",
    "Portfolio Weights and Peformance\n",
    "</h4>\n",
    "\n",
    "<p>\n",
    "The weights for the Ray Dalio/Bridgewater Associates portfolio\n",
    "and are not obviously a result of mean-variance portfolio optimization.\n",
    "This notebook is about prudent investing and the prudent\n",
    "investor should explore Dalio's recommendations before investing.\n",
    "</p>\n",
    "<p>\n",
    "Two of the assets, VGLT and VGIT, for the unleveraged portfolio and UBT and UST for the leveraged\n",
    "portfolio are treasury bond ETFs.  This gives the portfolios a weighting of 55% in treasury\n",
    "bonds and 30% stocks, with 15% in other assets.  This portfolio alloction is close to the\n",
    "retirement portfolio allocation recommend by Charles Schwab\n",
    "(see <a href=\"https://www.schwab.com/resource-center/insights/content/structuring-your-retirement-portfolio\">\n",
    "Structuring Your Retirement Portfolio</a>) for ages 60 to 69 (35% stocks, 60% bonds and 5% money market).\n",
    "An excellent discussion of broad portfolio allocation stratagies is published on the Optimized Portfolio\n",
    "site (see <a href=\"https://www.optimizedportfolio.com/asset-allocation/\">Portfolio Asset Allocation by Age</a>)\n",
    "</p>\n",
    "<p>\n",
    "The contribution of the\n",
    "Gold ETFs (IAU for the unleveraged portfolo and UGL for the leveraged portfolio) and\n",
    "the utility ETFs (VPU for the unleveraged portfolio and UPW for the leveraged portfolio)\n",
    "will be explored in this notebook. Do these ETFs provide better performance\n",
    "than a simple 40% stock 60% treasury bond portfolio?\n",
    "</p>\n",
    "<p>\n",
    "In many cases an equally weighted portfolio performs as well or better than a portfolio\n",
    "with weights determined by mean/variance portfolio optimization.\n",
    "This suggests the following questions:\n",
    "</p>\n",
    "<ol>\n",
    "<li>\n",
    "What is the performance of an equally weighted portfolio composed of the\n",
    "All Weather assets?\n",
    "</li>\n",
    "<li>\n",
    "What is the performance of an equally weighted portfolio composed of the\n",
    "All Weather assets without the gold ETFs?\n",
    "</li>\n",
    "<li>\n",
    "How does the All Weather porfolio performs relative to a conservate\n",
    "ETF like Blackrock's AOM.\n",
    "</li>\n",
    "</ol>\n",
    "<p>\n",
    "AOM: iShares Core Moderate Allocation ETF\n",
    "</p>\n",
    "<p>\n",
    "AOM is one of four iShares Core target-risk ETFs. The fund is a fund-of-funds that\n",
    "invests exclusively in a global portfolio of iShares ETFs with 40% allocation to equity\n",
    "and 60% allocation to fixed income.\n",
    "</p>\n",
    "<ul>\n",
    "<li>\n",
    "Expense ratio: 0.15%\n",
    "</li>\n",
    "<li>\n",
    "Inception date: Nov 4, 2008\n",
    "</li>\n",
    "<li>\n",
    "MSCI rating: A\n",
    "</li>\n",
    "</ul>\n",
    "<h3>\n",
    "Dividend vs. Portfolio Return\n",
    "</h3>\n",
    "<p>\n",
    "The objective of a \"retirment grade\" portfolio is to provide decent yearly return\n",
    "(4 to 8 percent) with low risk.  The portfolios investigated here focus on low drawdown.\n",
    "Often drawdowns recover, as we have seen with the 2008 market crash and the COVID-19\n",
    "drawdown.  If the portfolio returns a substantial dividend, the short term drawdown\n",
    "may less of an issue as long as the dividend continue.  Two ETFs that have relatively\n",
    "high return are PCEF and YYY. These ETFs attempt to earn return by taking advantage of\n",
    "value discrepancies in closed end investment funds.\n",
    "</p>\n",
    "<table>\n",
    "<tr>\n",
    "  <th>\n",
    "  ETF Symbol\n",
    "  </th>\n",
    "  <th>\n",
    "  Distribution Yield\n",
    "  </th>\n",
    "  <th>\n",
    "  Monthly distribution per share\n",
    "  </th>\n",
    "  <th>\n",
    "  Expense Ratio\n",
    "  </th>\n",
    "  <th>\n",
    "  Net Distrition\n",
    "  </th>\n",
    "  <th>\n",
    "  Inception date\n",
    "  </th>\n",
    "</tr>\n",
    "<tr>\n",
    "  <td>\n",
    "  <a href=\"https://www.invesco.com/us/financial-products/etfs/product-detail?audienceType=Investor&ticker=PCEF\">PCEF</a>\n",
    "  </td>\n",
    "  <td>\n",
    "   6.68%\n",
    "  </td>\n",
    "  <td>\n",
    "  0.13 - 0.14\n",
    "  </td>\n",
    "  <td>\n",
    "  2.34%\n",
    "  </td>\n",
    "  <td>\n",
    "  4.34%\n",
    "  </td>\n",
    "  <td>\n",
    "  Feb 19, 2020\n",
    "  </td>\n",
    "</tr>\n",
    "<tr>\n",
    "  <td>\n",
    "  <a href=\"https://amplifyetfs.com/yyy.html\">YYY</a>\n",
    "  </td>\n",
    "  <td>\n",
    "  9.0%\n",
    "  </td>\n",
    "  <td>\n",
    "  0.13\n",
    "  </td>\n",
    "  <td>\n",
    "  2.45%\n",
    "  </td>\n",
    "  <td>\n",
    "  6.65%\n",
    "  </td>\n",
    "  <td>\n",
    "  June 21, 2013\n",
    "  </td>\n",
    "</tr>\n",
    "<tr>\n",
    "  <td>\n",
    "  <a href=\"https://www.schwabassetmanagement.com/products/schp\">SCHP</a>\n",
    "  </td>\n",
    "  <td>\n",
    "  3.54%\n",
    "  </td>\n",
    "  <td>\n",
    "  0.19\n",
    "  </td>\n",
    "  <td>\n",
    "  0.05%\n",
    "  </td>\n",
    "  <td>\n",
    "  3.49%\n",
    "  </td>\n",
    "  <td>\n",
    "  Aug 5, 2010\n",
    "  </td>\n",
    "</tr>\n",
    "</table>\n",
    "<p>\n",
    "These ETFs have substantial expense ratios due to their investment strategy.  The\n",
    "net distribution column is the distribution minus the expense ratio.\n",
    "</p>\n",
    "<p>\n",
    "These ETFs are purchased for their dividend yield, since they ETF has either low price\n",
    "(PCEF) or negative price appreciation (YYY).\n",
    "</p>\n",
    "<p>\n",
    "The distributions are monthly.\n",
    "</p>\n",
    "<h3>\n",
    "Other Dividend ETFs\n",
    "</h3>\n",
    "<table>\n",
    "  <tr>\n",
    "    <th>\n",
    "    Symbol\n",
    "    </th>\n",
    "    <th>\n",
    "    ETF Name\n",
    "    </th>\n",
    "    <th>\n",
    "    Dividend Yield\n",
    "    </th>\n",
    "  </tr>\n",
    "  <tr>\n",
    "    <td>\n",
    "    SCHD\n",
    "    </td>\n",
    "    <td>\n",
    "    Schwab US Dividend Equity ETF\n",
    "    </td>\n",
    "    <td>\n",
    "    2.89%\n",
    "    </td>\n",
    "  </tr>\n",
    "  <tr>\n",
    "    <td>\n",
    "    VIG\n",
    "    </td>\n",
    "    <td>\n",
    "    Vanguard Dividend Appreciation\n",
    "    </td>\n",
    "    <td>\n",
    "    1.55%\n",
    "    </td>\n",
    "  </tr>\n",
    "</table>\n",
    "<p>\n",
    "The adjusted close price of the YYY ETF shows that the total return is not that good because\n",
    "appreciation from the dividend is balanced by the reduction in the value of the ETF shares.\n",
    "The PCEF ETF has better overall performance.\n",
    "</p>\n",
    "<p>\n",
    "Dividend ETFs that have good overall return (yield over 3%) can be difficult to find.\n",
    "Stocks with good dividend yields are an alternative. Most stocks with good dividend yield are natural\n",
    "resource and chemical stocks.  The natural resource\n",
    "and chemical sectors tend to be correlated, so these stocks would not be a diversified portfolio. But\n",
    "they could be combined with other assets to for an alternative to the all weather portfolio.\n",
    "</p>\n",
    "<table>\n",
    "  <tr>\n",
    "    <th>\n",
    "    Symbol\n",
    "    </th>\n",
    "    <th>\n",
    "    Dividend yield (May 2021)\n",
    "    </th>\n",
    "  </tr>\n",
    "  <tr>\n",
    "    <td>\n",
    "    BHP\n",
    "    </td>\n",
    "    <td>\n",
    "    3.95%\n",
    "    </td>\n",
    "  </tr>\n",
    "  <tr>\n",
    "    <td>\n",
    "    LYB\n",
    "    </td>\n",
    "    <td>\n",
    "    3.82\n",
    "    </td>\n",
    "  </tr>\n",
    "  <tr>\n",
    "    <td>\n",
    "    NEM\n",
    "    </td>\n",
    "    <td>\n",
    "    3.24\n",
    "    </td>\n",
    "  </tr>\n",
    "  <tr>\n",
    "    <td>\n",
    "    RIO\n",
    "    </td>\n",
    "    <td>\n",
    "    5.0%\n",
    "    </td>\n",
    "  </tr>\n",
    "  <tr>\n",
    "    <td>\n",
    "    SWM\n",
    "    </td>\n",
    "    <td>\n",
    "    3.91\n",
    "    </td>\n",
    "  </tr>\n",
    "  <tr>\n",
    "    <td>\n",
    "    SCCO\n",
    "    </td>\n",
    "    <td>\n",
    "    3.56\n",
    "    </td>\n",
    "  </tr>\n",
    "</table>"
   ]
  },
  {
   "cell_type": "code",
   "execution_count": 191,
   "metadata": {
    "pycharm": {
     "name": "#%%\n"
    }
   },
   "outputs": [],
   "source": [
    "from datetime import datetime, timedelta\n",
    "from tabulate import tabulate\n",
    "from typing import List, Tuple\n",
    "from pandas_datareader import data\n",
    "import matplotlib.pyplot as plt\n",
    "import matplotlib as mpl\n",
    "import pandas as pd\n",
    "import numpy as np\n",
    "from pathlib import Path\n",
    "import tempfile"
   ]
  },
  {
   "cell_type": "code",
   "execution_count": 192,
   "outputs": [],
   "source": [
    "\"\"\"\n",
    "  Ideally this function would go in a local package. However, I want this Jupyter notebook\n",
    "  to display on github and I don't know of a way to get the local package import install\n",
    "  and import to work.\n",
    "\"\"\"\n",
    "\n",
    "def get_market_data(file_name: str,\n",
    "                    data_col: str,\n",
    "                    symbols: List,\n",
    "                    data_source: str,\n",
    "                    start_date: datetime,\n",
    "                    end_date: datetime) -> pd.DataFrame:\n",
    "    \"\"\"\n",
    "      file_name: the file name in the temp directory that will be used to store the data\n",
    "      data_col: the type of data - 'Adj Close', 'Close', 'High', 'Low', 'Open', Volume'\n",
    "      symbols: a list of symbols to fetch data for\n",
    "      data_source: yahoo, etc...\n",
    "      start_date: the start date for the time series\n",
    "      end_date: the end data for the time series\n",
    "      Returns: a Pandas DataFrame containing the data.\n",
    "\n",
    "      If a file of market data does not already exist in the temporary directory, fetch it from the\n",
    "      data_source.\n",
    "    \"\"\"\n",
    "    temp_root: str = tempfile.gettempdir() + '/'\n",
    "    file_path: str = temp_root + file_name\n",
    "    temp_file_path = Path(file_path)\n",
    "    file_size = 0\n",
    "    if temp_file_path.exists():\n",
    "        file_size = temp_file_path.stat().st_size\n",
    "\n",
    "    if file_size > 0:\n",
    "        close_data = pd.read_csv(file_path, index_col='Date')\n",
    "    else:\n",
    "        panel_data: pd.DataFrame = data.DataReader(symbols, data_source, start_date, end_date)\n",
    "        close_data: pd.DataFrame = panel_data[data_col]\n",
    "        close_data.to_csv(file_path)\n",
    "    return close_data"
   ],
   "metadata": {
    "collapsed": false,
    "pycharm": {
     "name": "#%%\n"
    }
   }
  },
  {
   "cell_type": "markdown",
   "source": [
    "<h3>\n",
    "Close vs Adjusted Close Prices\n",
    "</h3>\n",
    "\n",
    "<p>\n",
    "The close price for a stock is the market price of the stock at the end of a trading day.\n",
    "</p>\n",
    "<p>\n",
    "The adjusted close price is the end of market stock price adjusted for a variety of\n",
    "\"corporate actions\" which include dividend payments and stock splits.\n",
    "</p>\n",
    "<p>\n",
    "The portfolios that are explored in this notebook include ETFs that pay dividends. In order\n",
    "to properly calculate the returns dividends must be taken into account so the adjusted close\n",
    "price is used.\n",
    "</p>\n",
    "<h4>\n",
    "Yahoo Finance Adjusted Close Price Calculation\n",
    "</h4>\n",
    "\n",
    "<p>\n",
    "Dividend multipliers are calculated based on dividend as a percentage of the price,\n",
    "primarily to avoid negative historical pricing.\n",
    "</p>\n",
    "<p>\n",
    "For example (from yahoo.com):\n",
    "</p>\n",
    "<ul>\n",
    "<li>\n",
    "If a 0.08 cash dividend is distributed on Feb 19 (ex- date), and the Feb 18 closing price is\n",
    "24.96, the pre-dividend data is multiplied by (1-0.08/24.96) = 0.9968.\n",
    "</li>\n",
    "<li>\n",
    "If a 2.40 cash dividend is distributed on May 12 (ex- date), and the May 11 closing price is\n",
    "16.51, the pre-dividend data is multiplied by (1-2.40/16.51) = 0.8546.\n",
    "</li>\n",
    "<li>\n",
    "If a 1.25 cash dividend is distributed on Jan 25 (ex- date), and the Jan 24 closing\n",
    "price is 51.20, the pre-dividend data is multiplied by (1-1.25/51.20) = 0.9756.\n",
    "</li>\n",
    "</ul>"
   ],
   "metadata": {
    "collapsed": false,
    "pycharm": {
     "name": "#%% md\n"
    }
   }
  },
  {
   "cell_type": "code",
   "execution_count": 193,
   "outputs": [],
   "source": [
    "data_source = 'yahoo'\n",
    "\n",
    "yyy_start_date = datetime.fromisoformat('2013-07-01')\n",
    "\n",
    "# yyyy-mm-dd\n",
    "start_date_str = '2010-01-01'\n",
    "start_date: datetime = datetime.fromisoformat(start_date_str)\n",
    "end_date: datetime = datetime.today() - timedelta(days=1)\n",
    "\n",
    "yyy_close = get_market_data(file_name='yyy_close', data_col='Close', symbols=['yyy'],\n",
    "                            data_source=data_source, start_date=yyy_start_date, end_date=end_date)\n",
    "yyy_adjClose = get_market_data(file_name='yyy_adjClose', data_col='Adj Close', symbols=['yyy'],\n",
    "                            data_source=data_source, start_date=yyy_start_date, end_date=end_date)\n",
    "yyy_time_series = yyy_close\n",
    "yyy_time_series.columns = ['Close']\n",
    "yyy_time_series['Adj Close'] = yyy_adjClose"
   ],
   "metadata": {
    "collapsed": false,
    "pycharm": {
     "name": "#%%\n"
    }
   }
  },
  {
   "cell_type": "markdown",
   "source": [
    "An example of the ETF YYY showing both the close price and the adjusted close price."
   ],
   "metadata": {
    "collapsed": false,
    "pycharm": {
     "name": "#%% md\n"
    }
   }
  },
  {
   "cell_type": "code",
   "execution_count": 194,
   "outputs": [
    {
     "data": {
      "text/plain": "<AxesSubplot:title={'center':'ETF YYY'}, xlabel='Date'>"
     },
     "execution_count": 194,
     "metadata": {},
     "output_type": "execute_result"
    },
    {
     "data": {
      "text/plain": "<Figure size 720x432 with 1 Axes>",
      "image/png": "[encoded data removed]"
     },
     "metadata": {
      "needs_background": "light"
     },
     "output_type": "display_data"
    }
   ],
   "source": [
    "# Plot the close price and the adjusted close price\n",
    "yyy_time_series.plot(grid=True, title='ETF YYY', figsize=(10,6))"
   ],
   "metadata": {
    "collapsed": false,
    "pycharm": {
     "name": "#%%\n"
    }
   }
  },
  {
   "cell_type": "markdown",
   "source": [
    "<p>\n",
    "As the table above show, an ETF that is similar to YYY is PCEF.  Unlike YYY, PCEF has not lost\n",
    "as much share face value, although the yield is less (adjusted for costs, PCEF's yearly return is\n",
    "4.34% vs. 6.65 for YYY).\n",
    "</p>\n",
    "<p>\n",
    "The close price and adjusted close price for PCEF are plotted below. For comparison purposes the\n",
    "time period is the same as the previous plot.\n",
    "</p>"
   ],
   "metadata": {
    "collapsed": false,
    "pycharm": {
     "name": "#%% md\n"
    }
   }
  },
  {
   "cell_type": "code",
   "execution_count": 195,
   "outputs": [
    {
     "data": {
      "text/plain": "<AxesSubplot:title={'center':'ETF PCEF'}, xlabel='Date'>"
     },
     "execution_count": 195,
     "metadata": {},
     "output_type": "execute_result"
    },
    {
     "data": {
      "text/plain": "<Figure size 720x432 with 1 Axes>",
      "image/png": "[encoded data removed]"
     },
     "metadata": {
      "needs_background": "light"
     },
     "output_type": "display_data"
    }
   ],
   "source": [
    "pcef_close = get_market_data(file_name='pcef_close', data_col='Close', symbols=['pcef'],\n",
    "                            data_source=data_source, start_date=yyy_start_date, end_date=end_date)\n",
    "pcef_adjClose = get_market_data(file_name='pcef_adjClose', data_col='Adj Close', symbols=['pcef'],\n",
    "                            data_source=data_source, start_date=yyy_start_date, end_date=end_date)\n",
    "pcef_time_series = pcef_close\n",
    "pcef_time_series.columns = ['Close']\n",
    "pcef_time_series['Adj Close'] = pcef_adjClose\n",
    "\n",
    "pcef_time_series.plot(grid=True, title='ETF PCEF', figsize=(10,6))"
   ],
   "metadata": {
    "collapsed": false,
    "pycharm": {
     "name": "#%%\n"
    }
   }
  },
  {
   "cell_type": "markdown",
   "source": [
    "Both YYY and PCEF seem to be sensitive to the market. Both plots show the COVID market crash."
   ],
   "metadata": {
    "collapsed": false,
    "pycharm": {
     "name": "#%% md\n"
    }
   }
  },
  {
   "cell_type": "code",
   "execution_count": 196,
   "outputs": [],
   "source": [
    "etf_symbols = [\"VTI\", \"VGLT\", \"VGIT\", \"VPU\", \"IAU\"]\n",
    "\n",
    "leveraged_etf_symbols = [ 'SSO', 'UBT', 'UST', 'UPW', 'UGL']\n",
    "leveraged_etf_weights = {\"SSO\": 0.30, \"UBT\": 0.4, \"UST\": 0.15, \"UPW\": 0.08, \"UGL\": 0.07}\n",
    "\n",
    "# S&P 500 ETF\n",
    "market = \"SPY\"\n",
    "\n",
    "# The Blackrock fund is 40% stocks and 60% bonds\n",
    "blackrock_moderate_allocation = \"AOM\"\n",
    "\n",
    "#\n",
    "# Fetch the close prices at the start of the time period.\n",
    "#\n",
    "close_price_file = \"etf_start_close_prices\"\n",
    "close_prices: pd.DataFrame =  get_market_data(file_name=close_price_file,\n",
    "                                              data_col='Close',\n",
    "                                              symbols=etf_symbols,\n",
    "                                              data_source=data_source,\n",
    "                                              start_date=start_date,\n",
    "                                              end_date=start_date+timedelta(days=10))\n",
    "\n",
    "etf_weights = {\"VTI\": 0.30, \"VGLT\": 0.40, \"VGIT\": 0.15, \"VPU\": 0.08, \"IAU\": 0.07}\n",
    "\n",
    "prices = close_prices[0:1]\n",
    "\n",
    "def calc_portfolio_holdings(initial_investment: int, weights: pd.DataFrame, prices: pd.DataFrame) -> Tuple[pd.DataFrame, pd.DataFrame]:\n",
    "    \"\"\"\n",
    "    Calculate the initial portfolio holdings given am amount of cash to invest.\n",
    "    :param initial_investment: The initial investment used to purchase the portfolio (no partial shares)\n",
    "    :param weights: a data frame containing the the weights for each asset as symbol: fraction\n",
    "    :param prices: the share prices\n",
    "    :return: the dollar value of the share holdings and the number of shares\n",
    "    \"\"\"\n",
    "    budget_df = weights.mul(initial_investment, axis=0)\n",
    "    budget_df.index = prices.index\n",
    "    # use integer divide to get the number of whole shares\n",
    "    shares = (budget_df // prices)\n",
    "    # the value of each share holding\n",
    "    holdings = shares * prices\n",
    "    return holdings, shares"
   ],
   "metadata": {
    "collapsed": false,
    "pycharm": {
     "name": "#%%\n"
    }
   }
  },
  {
   "cell_type": "markdown",
   "source": [
    "<h3>\n",
    "All Weather Portfolio Allocation\n",
    "</h3>\n",
    "<p>\n",
    "A portfolio allocates a percentage of the investment cash to each asset categry which is\n",
    "used buy shares in each of the assets. There are no fractional shares, so the amount\n",
    "invested may be less than the total amount of cash.\n",
    "</p>"
   ],
   "metadata": {
    "collapsed": false,
    "pycharm": {
     "name": "#%% md\n"
    }
   }
  },
  {
   "cell_type": "code",
   "execution_count": 197,
   "outputs": [
    {
     "name": "stdout",
     "output_type": "stream",
     "text": [
      "Portfolio weights:\n",
      "╒════╤═══════╤════════╤════════╤═══════╤═══════╕\n",
      "│    │   VTI │   VGLT │   VGIT │   VPU │   IAU │\n",
      "╞════╪═══════╪════════╪════════╪═══════╪═══════╡\n",
      "│  0 │   0.3 │    0.4 │   0.15 │  0.08 │  0.07 │\n",
      "╘════╧═══════╧════════╧════════╧═══════╧═══════╛\n",
      "Number of Shares:\n",
      "╒══════════════╤═══════╤════════╤════════╤═══════╤═══════╕\n",
      "│ As of Date   │   VTI │   VGLT │   VGIT │   VPU │   IAU │\n",
      "╞══════════════╪═══════╪════════╪════════╪═══════╪═══════╡\n",
      "│ 2010-01-04   │    52 │     69 │     25 │    12 │    31 │\n",
      "╘══════════════╧═══════╧════════╧════════╧═══════╧═══════╛\n",
      "Total invested from 10000 is 9877\n",
      "Value of share holdings:\n",
      "╒══════════════╤═════════╤═════════╤════════╤════════╤═════════╕\n",
      "│ As of Date   │     VTI │    VGLT │   VGIT │    VPU │     IAU │\n",
      "╞══════════════╪═════════╪═════════╪════════╪════════╪═════════╡\n",
      "│ 2010-01-04   │ 2980.12 │ 3957.84 │ 1472.5 │ 785.64 │ 681.318 │\n",
      "╘══════════════╧═════════╧═════════╧════════╧════════╧═════════╛\n"
     ]
    }
   ],
   "source": [
    "# initial investment, in dollars\n",
    "initial_investment = 10000\n",
    "\n",
    "weights_df: pd.DataFrame = pd.DataFrame(etf_weights.values()).transpose()\n",
    "weights_df.columns = etf_weights.keys()\n",
    "\n",
    "holdings, shares = calc_portfolio_holdings(initial_investment=initial_investment,\n",
    "                                           weights=weights_df,\n",
    "                                           prices=prices)\n",
    "\n",
    "print(\"Portfolio weights:\")\n",
    "print(tabulate(weights_df, headers=['', *weights_df.columns], tablefmt='fancy_grid'))\n",
    "print(\"Number of Shares:\")\n",
    "print(tabulate(shares, headers=['As of Date', *shares.columns], tablefmt='fancy_grid'))\n",
    "print(f'Total invested from {initial_investment} is {int(holdings.sum(axis=1))}')\n",
    "\n",
    "print(\"Value of share holdings:\")\n",
    "print(tabulate(holdings, headers=['As of Date', *holdings.columns], tablefmt='fancy_grid'))"
   ],
   "metadata": {
    "collapsed": false,
    "pycharm": {
     "name": "#%%\n"
    }
   }
  },
  {
   "cell_type": "markdown",
   "source": [
    "<h3>\n",
    "Rebalancing the Porfolio\n",
    "</h3>\n",
    "<p>\n",
    "The All Weather portfolio has 30% of it's assets in a stock market ETF (VTI: Vanguard Total Stock Market\n",
    "for the unleveraged portfolio and SSO: ProShares Ultra S&P 500 for the leveraged portfolio. If the\n",
    "overall stock market is changing in value, the value of these ETF shares will increase or decrease and\n",
    "the percentage of the portfolio held in \"the market\" will increase or decrease as well. To maintain\n",
    "a 30% share in the stock market asset the portfolio may need to be rebalanced.\n",
    "</p>\n",
    "<p>\n",
    "Portfolio rebalancing is usually done either quarterly:\n",
    "</p>\n",
    "\n",
    "$\\ \\frac{253\\ trading\\ days}{year} \\times \\frac{1 year}{4\\ quarters} \\approx 63\\ days $\n",
    "\n",
    "<p>\n",
    "There are potential short term capital gains from portfolio rebalancing every quarter, but they should not be\n",
    "significant. If this is not the case, the portfolio can be rebalance every calendar year plus one day\n",
    "for the (United States) long term capital gains period.\n",
    "</p>"
   ],
   "metadata": {
    "collapsed": false,
    "pycharm": {
     "name": "#%% md\n"
    }
   }
  },
  {
   "cell_type": "code",
   "execution_count": 198,
   "outputs": [],
   "source": [
    "trading_days = 253\n",
    "days_in_quarter = trading_days // 4\n",
    "\n",
    "def do_rebalance(cash_holdings: pd.DataFrame, weights_df: pd.DataFrame, portfolio_range: float) -> bool:\n",
    "    \"\"\"\n",
    "    cash_holdings: a data frame with the amount of cash for each holding.\n",
    "    weights: a data frame containing the portfolio target weights\n",
    "    range: the portfolio should be rebalanced if an asset is not +/- percent of the target weight\n",
    "    \"\"\"\n",
    "    total_cash: int = int(cash_holdings.sum(axis=1))\n",
    "    current_percent = round(cash_holdings.div(total_cash), 3)\n",
    "    # Calculate the allowed weight range for the portfolio\n",
    "    weight_range = weights_df.apply(lambda x: (x - (x * portfolio_range), x * (1 + portfolio_range)), axis=0)\n",
    "    # are any of the current portfolio weights outside of the allowed portfolio range\n",
    "    rebalance = list(float(current_percent[col]) < float(weight_range[col][0]) or float(current_percent[col]) > float(weight_range[col][1]) for col in current_percent.columns)\n",
    "    return any(rebalance)\n",
    "\n",
    "\n",
    "\n",
    "def portfolio_rebalance(cash_holdings: pd.DataFrame,\n",
    "                        weights: pd.DataFrame,\n",
    "                        portfolio_range: float,\n",
    "                        prices: pd.DataFrame) -> pd.DataFrame:\n",
    "    \"\"\"\n",
    "    cash_holdings: a data frame containing the current portfolio cash holdings by stock\n",
    "    weights: a data frame containing the portfolio weights\n",
    "    range: the +/- percentage range for rebalancing (e.g., +/- 0.05)\n",
    "    prices: the market prices on the day the portfolio will be rebalanced.\n",
    "    Return: rebalanced cash holdings\n",
    "    \"\"\"\n",
    "    new_holdings = cash_holdings\n",
    "    if do_rebalance(cash_holdings=cash_holdings, weights_df=weights, portfolio_range=portfolio_range):\n",
    "        total_cash = cash_holdings.sum(axis=1)\n",
    "        new_holdings, shares = calc_portfolio_holdings(initial_investment=total_cash,\n",
    "                                                       weights=weights,\n",
    "                                                       prices=prices)\n",
    "    return new_holdings"
   ],
   "metadata": {
    "collapsed": false,
    "pycharm": {
     "name": "#%%\n"
    }
   }
  },
  {
   "cell_type": "markdown",
   "source": [
    "<h3>\n",
    "Asset return over time\n",
    "</h3>\n",
    "\n",
    "<p>\n",
    "The simple return for a time period <i>t</> is:\n",
    "</p>\n",
    "\n",
    "$\\ R_t = \\large \\frac{R_t - R_{t-1}}{R_{t-1}} = \\frac{R_t}{R_{t-1}} - 1$\n",
    "\n",
    "The portfolio value calculated via continuously compounded returns is:\n",
    "\n",
    "$\\ portfolio\\ value\\ = V_t = V_{t-1} + V_{t-1} \\times R_{t} $\n",
    "\n",
    "where $\\ V_{0} = initial\\ investment $"
   ],
   "metadata": {
    "collapsed": false
   }
  },
  {
   "cell_type": "code",
   "execution_count": 199,
   "outputs": [],
   "source": [
    "def simple_return(time_series: List, period: int) -> List :\n",
    "    return list(((time_series[i]/time_series[i-period]) - 1.0 for i in range(period, len(time_series), period)))\n",
    "\n",
    "\n",
    "def return_df(time_series_df: pd.DataFrame) -> pd.DataFrame:\n",
    "    \"\"\"\n",
    "    Given a data frame consisting of price time series, return a data frame\n",
    "    that consists of the simple returns for the time series.  The returned data\n",
    "    frame will have the same columns, but the time index will be one time period\n",
    "    less.\n",
    "    \"\"\"\n",
    "    r_df: pd.DataFrame = pd.DataFrame()\n",
    "    col_names = time_series_df.columns\n",
    "    for col in col_names:\n",
    "        col_vals = time_series_df[col]\n",
    "        col_ret = simple_return(col_vals, 1)\n",
    "        r_df[col] = col_ret\n",
    "    index = time_series_df.index\n",
    "    return r_df.set_index(index[1:len(index)])"
   ],
   "metadata": {
    "collapsed": false,
    "pycharm": {
     "name": "#%%\n"
    }
   }
  },
  {
   "cell_type": "markdown",
   "source": [
    "Let's check that the asset return calculation is correct.\n",
    "\n",
    "For a stock with no dividends and no splits the asset value calculated via continuously\n",
    "compounded returns should be the same as the close\n",
    "price.  An example of a stock without dividends is Google (Alphabet), symbol GOOGL."
   ],
   "metadata": {
    "collapsed": false,
    "pycharm": {
     "name": "#%% md\n"
    }
   }
  },
  {
   "cell_type": "code",
   "execution_count": 200,
   "outputs": [
    {
     "data": {
      "text/plain": "<AxesSubplot:title={'center':'Google Returns 2019-01-01 to 2019-12-31'}, xlabel='Date'>"
     },
     "execution_count": 200,
     "metadata": {},
     "output_type": "execute_result"
    },
    {
     "data": {
      "text/plain": "<Figure size 432x288 with 1 Axes>",
      "image/png": "[encoded data removed]"
     },
     "metadata": {
      "needs_background": "light"
     },
     "output_type": "display_data"
    }
   ],
   "source": [
    "google_close_file = \"google_close\"\n",
    "google_start_date_str = '2019-01-01'\n",
    "google_end_date_str = '2019-12-31'\n",
    "google_start_date: datetime = datetime.fromisoformat(google_start_date_str)\n",
    "google_end_date: datetime = datetime.fromisoformat(google_end_date_str)\n",
    "google_sym = 'GOOGL'\n",
    "\n",
    "google_close: pd.DataFrame = get_market_data(file_name=google_close_file,\n",
    "                                                            data_col='Close',\n",
    "                                                            symbols=[google_sym],\n",
    "                                                            data_source=data_source,\n",
    "                                                            start_date=google_start_date,\n",
    "                                                            end_date=google_end_date)\n",
    "\n",
    "google_close = round(google_close, 2)\n",
    "google_returns = return_df(google_close)\n",
    "google_returns = google_returns[google_sym]\n",
    "\n",
    "google_returns.plot(title=f'Google Returns {google_start_date.strftime(\"%Y-%m-%d\")} to {google_end_date.strftime(\"%Y-%m-%d\")}')"
   ],
   "metadata": {
    "collapsed": false,
    "pycharm": {
     "name": "#%%\n"
    }
   }
  },
  {
   "cell_type": "markdown",
   "source": [
    "The Google daily returns are plotted above."
   ],
   "metadata": {
    "collapsed": false,
    "pycharm": {
     "name": "#%% md\n"
    }
   }
  },
  {
   "cell_type": "code",
   "execution_count": 201,
   "outputs": [],
   "source": [
    "google_val_np = np.zeros(google_close.shape, dtype=np.float64)\n",
    "google_val_np[0] = google_close[0:1]\n",
    "for t in range(1, google_close.shape[0]):\n",
    "    google_val_np[t] = google_val_np[t-1] + (google_val_np[t-1] * google_returns[t-1])\n",
    "\n",
    "google_val_np = google_val_np.round(2)\n",
    "google_val_df: pd.DataFrame = pd.DataFrame(google_val_np, index=google_close.index, columns=google_close.columns)"
   ],
   "metadata": {
    "collapsed": false,
    "pycharm": {
     "name": "#%%\n"
    }
   }
  },
  {
   "cell_type": "markdown",
   "source": [],
   "metadata": {
    "collapsed": false,
    "pycharm": {
     "name": "#%% md\n"
    }
   }
  },
  {
   "cell_type": "code",
   "execution_count": 202,
   "outputs": [
    {
     "name": "stdout",
     "output_type": "stream",
     "text": [
      "The close price and the value computed by continuously compounded returns are the same\n"
     ]
    }
   ],
   "source": [
    "compare_rslt = 'the same' if (int(google_val_df.eq(google_close).sum()) == google_close.shape[0]) else 'different'\n",
    "print(f'The close price and the value computed by continuously compounded returns are {compare_rslt}')"
   ],
   "metadata": {
    "collapsed": false,
    "pycharm": {
     "name": "#%%\n"
    }
   }
  },
  {
   "cell_type": "code",
   "execution_count": 203,
   "outputs": [],
   "source": [
    "etf_adj_close_file = 'etf_adj_close'\n",
    "etf_close_file = 'etf_close'\n",
    "\n",
    "# Fetch the adjusted close price for the unleveraged \"all weather\" set of ETFs'\n",
    "# VTI, VGLT, VGIT, VPU and IAU\n",
    "etf_adj_close: pd.DataFrame = get_market_data(file_name=etf_adj_close_file,\n",
    "                                          data_col=\"Adj Close\",\n",
    "                                          symbols=etf_symbols,\n",
    "                                          data_source=data_source,\n",
    "                                          start_date=start_date,\n",
    "                                          end_date=end_date)\n",
    "\n",
    "# Fetch all of the close prices: this is faster than fetching only the dates needed.\n",
    "etf_close: pd.DataFrame = get_market_data(file_name=etf_close_file,\n",
    "                                          data_col=\"Close\",\n",
    "                                          symbols=etf_symbols,\n",
    "                                          data_source=data_source,\n",
    "                                          start_date=start_date,\n",
    "                                          end_date=end_date)\n",
    "\n",
    "# +/- for each asset for portfolio rebalancing\n",
    "portfolio_range = 0.05\n",
    "\n",
    "returns = return_df(etf_close)\n",
    "\n",
    "portfolio_np = np.zeros(etf_close.shape, dtype=np.float64)\n",
    "portfolio_total_np = np.zeros(etf_close.shape[0])\n",
    "portfolio_total_np[0] = holdings.sum(axis=1)\n",
    "# initialize the first row with the dollar value of the portfolio holdings.\n",
    "portfolio_np[0,] = holdings\n",
    "\n",
    "for t in range(1, portfolio_np.shape[0]):\n",
    "    for col, stock in enumerate(holdings.columns):\n",
    "        portfolio_np[t, col] = portfolio_np[t-1, col] + (portfolio_np[t-1, col] * returns[stock][t-1])\n",
    "        portfolio_total_np[t] = portfolio_total_np[t] + portfolio_np[t,col]"
   ],
   "metadata": {
    "collapsed": false,
    "pycharm": {
     "name": "#%%\n"
    }
   }
  },
  {
   "cell_type": "markdown",
   "source": [
    "<p>\n",
    "The plot below shows the portfolio value without rebalancing.\n",
    "</p>"
   ],
   "metadata": {
    "collapsed": false,
    "pycharm": {
     "name": "#%% md\n"
    }
   }
  },
  {
   "cell_type": "code",
   "execution_count": 204,
   "outputs": [
    {
     "data": {
      "text/plain": "<AxesSubplot:title={'center':'Portfolio Value (without rebalancing)'}, xlabel='Date'>"
     },
     "execution_count": 204,
     "metadata": {},
     "output_type": "execute_result"
    },
    {
     "data": {
      "text/plain": "<Figure size 720x576 with 1 Axes>",
      "image/png": "[encoded data removed]"
     },
     "metadata": {
      "needs_background": "light"
     },
     "output_type": "display_data"
    }
   ],
   "source": [
    "portfolio_total_df: pd.DataFrame = pd.DataFrame(portfolio_total_np, index=etf_close.index, columns=['Portfolio'])\n",
    "portfolio_total_df.plot(title=\"Portfolio Value (without rebalancing)\", grid=True, figsize=(10,8))"
   ],
   "metadata": {
    "collapsed": false,
    "pycharm": {
     "name": "#%%\n"
    }
   }
  },
  {
   "cell_type": "markdown",
   "source": [
    "<p>\n",
    "Over time the fraction of the portfolio invested in the market index fund is likely to move outside\n",
    "of the 30% allocated to the market index if the portfolio is not rebalanced.\n",
    "</p>\n",
    "<p>\n",
    "The plot below shows the percentage of the portfolio invested in the market, without portfolio\n",
    "rebalancing.\n",
    "</p>"
   ],
   "metadata": {
    "collapsed": false,
    "pycharm": {
     "name": "#%% md\n"
    }
   }
  },
  {
   "cell_type": "code",
   "execution_count": 205,
   "outputs": [
    {
     "data": {
      "text/plain": "<AxesSubplot:title={'center':'Portfolio Value (rebalanced)'}, xlabel='Date'>"
     },
     "execution_count": 205,
     "metadata": {},
     "output_type": "execute_result"
    },
    {
     "data": {
      "text/plain": "<Figure size 720x576 with 1 Axes>",
      "image/png": "[encoded data removed]"
     },
     "metadata": {
      "needs_background": "light"
     },
     "output_type": "display_data"
    },
    {
     "data": {
      "text/plain": "<Figure size 720x576 with 1 Axes>",
      "image/png": "[encoded data removed]"
     },
     "metadata": {
      "needs_background": "light"
     },
     "output_type": "display_data"
    }
   ],
   "source": [
    "portfolio_total_np = portfolio_np.sum(axis=1)\n",
    "portfolio_percent_np = portfolio_np / portfolio_total_np[:,None]\n",
    "market_percent = portfolio_percent_np[:,0]\n",
    "market_percent_df: pd.DataFrame = pd.DataFrame(market_percent, index=etf_close.index, columns=['Market'])\n",
    "market_percent_df.plot(title=\"Percentage of Portfolio invested in the Market\", grid=True, figsize=(10,8))\n",
    "\n",
    "portfolio_np = np.zeros(etf_close.shape, dtype=np.float64)\n",
    "portfolio_total_np = np.zeros(etf_close.shape[0])\n",
    "portfolio_total_np[0] = holdings.sum(axis=1)\n",
    "portfolio_np[0,] = holdings\n",
    "\n",
    "for t in range(1, portfolio_np.shape[0]):\n",
    "    for col, stock in enumerate(holdings.columns):\n",
    "        portfolio_np[t, col] = portfolio_np[t-1, col] + (portfolio_np[t-1, col] * returns[stock][t-1])\n",
    "        portfolio_total_np[t] = portfolio_total_np[t] + portfolio_np[t,col]\n",
    "    if (t % days_in_quarter) == 0:\n",
    "        current_holdings: pd.DataFrame = pd.DataFrame( portfolio_np[t,]).transpose()\n",
    "        current_holdings.columns = holdings.columns\n",
    "        date = etf_close.index[t]\n",
    "        current_holdings.index = [date]\n",
    "        close_prices_t = etf_close[t:t+1]\n",
    "        portfolio_np[t, ] = portfolio_rebalance(cash_holdings=current_holdings,\n",
    "                                                weights=weights_df,\n",
    "                                                portfolio_range=portfolio_range,\n",
    "                                                prices=close_prices_t)\n",
    "\n",
    "portfolio_total_df: pd.DataFrame = pd.DataFrame(portfolio_total_np, index=etf_close.index)\n",
    "portfolio_total_df.columns = ['Portfolio Value']\n",
    "portfolio_total_df.plot(title=\"Portfolio Value (rebalanced)\", grid=True, figsize=(10,8))\n",
    "\n",
    "# ax = plt.gca()\n",
    "# ax.xaxis.set_major_locator(mpl.dates.YearLocator())\n",
    "# ax.xaxis.set_major_formatter(mpl.dates.DateFormatter('%Y-%m'))\n",
    "# plt.plot(portfolio_total_df)\n",
    "# plt.gcf().autofmt_xdate()\n",
    "# plt.show()\n"
   ],
   "metadata": {
    "collapsed": false,
    "pycharm": {
     "name": "#%%\n"
    }
   }
  },
  {
   "cell_type": "markdown",
   "source": [
    "<h3>\n",
    "Python Resource for Portfolio Optimization and Analysis\n",
    "</h3>\n",
    "<h4>\n",
    "<a href=\"https://pypi.org/project/pyportfolioopt/\">PyPortfolioOpt</a>\n",
    "</h4>\n",
    "<blockquote>\n",
    "<p>\n",
    "PyPortfolioOpt is a library that implements portfolio optimization methods,\n",
    "including classical mean-variance optimization techniques and Black-Litterman allocation,\n",
    "as well as more recent developments in the field like shrinkage and Hierarchical Risk Parity,\n",
    "along with some novel experimental features like exponentially-weighted covariance matrices.\n",
    "</p>\n",
    "</blockquote>\n",
    "<ul>\n",
    "<li><a href=\"https://pyportfolioopt.readthedocs.io/en/latest/\">PyPortfolioOpt documentation at ReadTheDocs</a></li>\n",
    "</ul>\n",
    "\n",
    "<h4>\n",
    "<a href=\"https://github.com/quantopian\">Quantopian GitHub Repositories</a>\n",
    "</h4>\n",
    "<p>\n",
    "From Wikipedia:\n",
    "</p>\n",
    "<blockquote>\n",
    "<p>\n",
    "Quantopian aimed to create a crowd-sourced hedge fund by letting freelance quantitative\n",
    "analysts develop, test, and use trading algorithms to buy and sell securities.\n",
    "</p>\n",
    "<p>\n",
    "In February 2020, Quantopian announced it would return investors' money due to the\n",
    "underperformance of its investment strategies. In November 2020, Quantopian announced it will\n",
    "shut down after 9 years.\n",
    "</p>\n",
    "</blockquote>\n",
    "<p>\n",
    "Quantopian published a large library of open source (Apache 2 license) Python code that\n",
    "can be used for quantitative/computational finance. It is not clear to me who,\n",
    "if anyone, maintains and extends the Quantopian libraries.  I have not seen any contributions\n",
    "to the repositories since 2020.  The repository owners are all listed as \"members\" of\n",
    "Quantopian Inc.\n",
    "</p>\n",
    "<h4>\n",
    "<a href=\"\"https://github.com/quantopian/pyfolio>Quantopian pyfolio</a>\n",
    "</h4>\n",
    "<ul>\n",
    "<li><a href=\"https://nbviewer.jupyter.org/format/slides/github/quantopian/pyfolio/blob/master/pyfolio/examples/pyfolio_talk_slides.ipynb#/\">Slides from a talk about pyfolio</a></li>\n",
    "</ul>\n",
    "\n",
    "<h4>\n",
    "Disclaimer\n",
    "</h4>\n",
    "<p>\n",
    "This is not financial advice, investing advice, or tax advice.\n",
    "The information on this website is for informational and recreational purposes only.\n",
    "Investment products discussed (ETFs, mutual funds, etc.) are for illustrative purposes\n",
    "only. This is not a recommendation to buy, sell, or otherwise transact in any of the\n",
    "products mentioned. Do your own due diligence. Past performance does not guarantee\n",
    "future returns.\n",
    "</p>\n",
    "\n"
   ],
   "metadata": {
    "collapsed": false
   }
  },
  {
   "cell_type": "code",
   "execution_count": 205,
   "metadata": {
    "pycharm": {
     "name": "#%%\n"
    }
   },
   "outputs": [],
   "source": [
    "\n"
   ]
  }
 ],
 "metadata": {
  "kernelspec": {
   "display_name": "Python 3 (ipykernel)",
   "language": "python",
   "name": "python3"
  },
  "language_info": {
   "codemirror_mode": {
    "name": "ipython",
    "version": 3
   },
   "file_extension": ".py",
   "mimetype": "text/x-python",
   "name": "python",
   "nbconvert_exporter": "python",
   "pygments_lexer": "ipython3",
   "version": "3.9.7"
  }
 },
 "nbformat": 4,
 "nbformat_minor": 1
}